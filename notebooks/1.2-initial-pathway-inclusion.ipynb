{
 "cells": [
  {
   "cell_type": "markdown",
   "metadata": {},
   "source": [
    "## Initial Pathway Inclusion"
   ]
  },
  {
   "cell_type": "markdown",
   "metadata": {},
   "source": [
    "This notebook contains initial experiments to use pathway data as a catalyst to facilitate finding biclusters of genes that contribute to the same biological processes. The very first idea is to look up which genes collaborate in which pathways. A pathway is then added as a one-hot-encoded vector to the data matrix. An item in this vector is set to 1 if the corresponding gene contributes to the pathway. After finding biclusters, the pathway rows are removed again. Hopefully, this will make it easier for the biclustering algorithm to find biclusters."
   ]
  },
  {
   "cell_type": "markdown",
   "metadata": {},
   "source": [
    "For further research: another idea to model the problem including pathway information would be to use a bipartite graph in which one set corresponds to the samples and another set corresponds to the genes. A node between those two sets has a weight that corresponds to the expression level of that gene in the sample. To avoid a fully connection between those two sets, one could remove nodes that have a weight smaller than $\\epsilon$. The pathway information could be added by connecting gene nodes with each other that contribute to the same pathway."
   ]
  },
  {
   "cell_type": "markdown",
   "metadata": {},
   "source": [
    " ### Tasks\n",
    " * #### Find bi-cluster algorithm to detect overlapping clusters (in the best case with open source)\n",
    " * #### Check out BicOverlapper 2.0: visual analysis for gene expression\n",
    " * #### How many pathways for the human are there in the KEGG database?\n",
    " * #### What would be nice threshoulds for pathways to include them as additional information\n",
    " * #### Is PPI based on pathway data or vice versa?\n",
    " * #### Structure mid-term presentation"
   ]
  },
  {
   "cell_type": "markdown",
   "metadata": {},
   "source": [
    "---"
   ]
  },
  {
   "cell_type": "markdown",
   "metadata": {},
   "source": [
    "## 1. Find bi-cluster algorithm to detect overlapping clusters (in the best case with open source)\n",
    "\n",
    "- [BiMax](http://ocw.metu.edu.tr/file.php/40/Schedule/reading8.pdf) seems to be able to do that ([OS Implementation](http://www.kemaleren.com/the-bimax-algorithm.html))\n",
    "- [This](https://bmcbioinformatics.biomedcentral.com/track/pdf/10.1186/1471-2105-13-S18-A10?site=bmcbioinformatics.biomedcentral.com) describes that the problem BiMax is focusing on can be solved more efficiently using the [Bron-Kerbosch algorithm](https://gist.github.com/abhin4v/8304062) to enumerate all maximal bicliques in a bipartite graph.\n",
    "\n",
    "## 2. Check out BicOverlapper 2.0: visual analysis for gene expression\n",
    "## 3. How many pathways for the human are there in the KEGG database?\n",
    "## 4. What would be nice threshoulds for pathways to include them as additional information\n",
    "## 5. Is PPI based on pathway data or vice versa?\n",
    "## 6. Structure mid-term presentation"
   ]
  },
  {
   "cell_type": "markdown",
   "metadata": {},
   "source": [
    "Links\n",
    "https://string-db.org/cgi/network.pl?taskId=ZK2D2EkO77Z7\n",
    "https://string-db.org/cgi/network.pl?taskId=zR0L4yeMcEGU\n",
    "http://www.ensembl.org/Homo_sapiens/Gene/Summary?db=core;g=ENSG00000096088;r=6:41736711-41754109\n",
    "http://www.genecards.org/cgi-bin/carddisp.pl?gene=PGC#pathways_interactions"
   ]
  }
 ],
 "metadata": {
  "kernelspec": {
   "display_name": "venv3_gene",
   "language": "python",
   "name": "venv3_gene"
  },
  "language_info": {
   "codemirror_mode": {
    "name": "ipython",
    "version": 3
   },
   "file_extension": ".py",
   "mimetype": "text/x-python",
   "name": "python",
   "nbconvert_exporter": "python",
   "pygments_lexer": "ipython3",
   "version": "3.5.2"
  }
 },
 "nbformat": 4,
 "nbformat_minor": 2
}

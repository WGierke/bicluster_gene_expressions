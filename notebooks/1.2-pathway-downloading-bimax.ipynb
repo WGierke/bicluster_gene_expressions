{
 "cells": [
  {
   "cell_type": "markdown",
   "metadata": {},
   "source": [
    "## Pathway Downloading & BiMax"
   ]
  },
  {
   "cell_type": "markdown",
   "metadata": {},
   "source": [
    "This notebook shows how to download data of associated genes for genes included in columns of data frames."
   ]
  },
  {
   "cell_type": "markdown",
   "metadata": {},
   "source": [
    " ### Tasks\n",
    " * #### Find bi-cluster algorithm to detect overlapping clusters (in the best case with open source)\n",
    " * #### Check out BicOverlapper 2.0: visual analysis for gene expression\n",
    " * #### How many pathways for the human are there in the KEGG database?\n",
    " * #### What would be nice threshoulds for pathways to include them as additional information\n",
    " * #### Is PPI based on pathway data or vice versa?\n",
    " * #### Structure mid-term presentation"
   ]
  },
  {
   "cell_type": "markdown",
   "metadata": {},
   "source": [
    "---"
   ]
  },
  {
   "cell_type": "markdown",
   "metadata": {},
   "source": [
    "## 1. Find bi-cluster algorithm to detect overlapping clusters (in the best case with open source)\n",
    "\n",
    "- [BiMax](http://ocw.metu.edu.tr/file.php/40/Schedule/reading8.pdf) seems to be able to do that ([OS Implementation](http://www.kemaleren.com/the-bimax-algorithm.html))\n",
    "- [This](https://bmcbioinformatics.biomedcentral.com/track/pdf/10.1186/1471-2105-13-S18-A10?site=bmcbioinformatics.biomedcentral.com) describes that the problem BiMax is focusing on can be solved more efficiently using the [Bron-Kerbosch algorithm](https://gist.github.com/abhin4v/8304062) to enumerate all maximal bicliques in a bipartite graph.\n",
    "\n",
    "## 2. Check out BicOverlapper 2.0: visual analysis for gene expression\n",
    "- Segmentation Fault ...\n",
    "\n",
    "## 3. How many pathways for the human are there in the KEGG database?\n",
    "- 322 (http://www.kegg.jp/kegg-bin/search_pathway_text?map=hsa&keyword=&mode=1&viewImage=true)\n",
    "\n",
    "## 4. What would be nice threshoulds for pathways to include them as additional information\n",
    "- String's API returns various confidence scores that are based on different data mining techniques:\n",
    "![Screenshot%20from%202017-11-28%2011-03-22.png](attachment:Screenshot%20from%202017-11-28%2011-03-22.png)\n",
    "## 5. Is PPI based on pathway data or vice versa?\n",
    "- PPI (based on STRING) includes KEGG PATHWAY among others: https://en.wikipedia.org/wiki/STRING\n",
    "![Screenshot%20from%202017-11-28%2011-00-03.png](attachment:Screenshot%20from%202017-11-28%2011-00-03.png)\n",
    "## 6. Structure mid-term presentation\n",
    "- Present motivation: why is gene-expression analysis necessary?\n",
    "- What is biclustering and why is it necessary? -> *why to include external information?*\n",
    "- How can pathways help?\n",
    "- How do we want to include them?"
   ]
  },
  {
   "cell_type": "code",
   "execution_count": 106,
   "metadata": {},
   "outputs": [
    {
     "name": "stdout",
     "output_type": "stream",
     "text": [
      "The autoreload extension is already loaded. To reload it, use:\n",
      "  %reload_ext autoreload\n"
     ]
    }
   ],
   "source": [
    "% load_ext autoreload\n",
    "% autoreload 2\n",
    "import sys\n",
    "sys.path.append('..')\n",
    "from src.data.load_data import get_small_dataset_content, get_big_dataset_content\n",
    "from src.features.download import get_string_db_identifier, get_associated_genes, save_associated_genes\n",
    "from src.features.normalize import select_variance_features, scale_df\n",
    "import numpy as np\n",
    "from matplotlib import pyplot as plt\n",
    "from src.algorithms.bimax import BiMax"
   ]
  },
  {
   "cell_type": "code",
   "execution_count": 5,
   "metadata": {},
   "outputs": [
    {
     "name": "stdout",
     "output_type": "stream",
     "text": [
      "9606.ENSP00000362116\n",
      "('string:9606.ENSP00000325548', 'CNDP2', 'score:0.765|tscore:0.765')\n",
      "('string:9606.ENSP00000220509', 'VPS18', 'score:0.743|ascore:0.051|tscore:0.741')\n",
      "('string:9606.ENSP00000360124', 'PGM1', 'score:0.735|ascore:0.057|tscore:0.731')\n",
      "('string:9606.ENSP00000270776', 'PGD', 'score:0.734|ascore:0.052|tscore:0.731')\n",
      "('string:9606.ENSP00000325917', 'PCSK7', 'score:0.732|ascore:0.126|escore:0.528|tscore:0.404')\n",
      "('string:9606.ENSP00000268171', 'FURIN', 'score:0.725|ascore:0.126|escore:0.528|tscore:0.389')\n",
      "('string:9606.ENSP00000308024', 'PCSK1', 'score:0.721|ascore:0.126|escore:0.528|tscore:0.38')\n",
      "('string:9606.ENSP00000300954', 'PCSK4', 'score:0.721|ascore:0.126|escore:0.528|tscore:0.38')\n",
      "('string:9606.ENSP00000446280', 'PCSK5', 'score:0.721|ascore:0.126|escore:0.528|tscore:0.38')\n",
      "('string:9606.ENSP00000305056', 'PCSK6', 'score:0.721|ascore:0.126|escore:0.528|tscore:0.38')\n",
      "PGC\n",
      "('string:9685.ENSFCAP00000005661', 'FURIN', 'score:0.84|ascore:0.129|escore:0.663|dscore:0.17|tscore:0.423')\n",
      "('string:9685.ENSFCAP00000005882', 'PCSK1', 'score:0.84|ascore:0.129|escore:0.663|dscore:0.17|tscore:0.423')\n",
      "('string:9685.ENSFCAP00000020230', 'PCSK5', 'score:0.84|ascore:0.129|escore:0.663|dscore:0.17|tscore:0.423')\n",
      "('string:9685.ENSFCAP00000012594', 'PCSK7', 'score:0.84|ascore:0.129|escore:0.663|dscore:0.17|tscore:0.423')\n",
      "('string:9685.ENSFCAP00000012414', 'PCSK6', 'score:0.84|ascore:0.129|escore:0.663|dscore:0.17|tscore:0.423')\n",
      "('string:9685.ENSFCAP00000010550', 'PCSK2', 'score:0.84|ascore:0.129|escore:0.663|dscore:0.17|tscore:0.423')\n",
      "('string:9685.ENSFCAP00000010477', 'FRAS1', 'score:0.646|ascore:0.052|escore:0.231|dscore:0.152|tscore:0.495')\n",
      "('string:9685.ENSFCAP00000010427', 'CPVL', 'score:0.595|ascore:0.124|escore:0.19|tscore:0.476')\n",
      "('string:9685.ENSFCAP00000001751', 'CTSA', 'score:0.595|ascore:0.124|escore:0.19|tscore:0.476')\n",
      "('string:9685.ENSFCAP00000024854', 'ENSFCAG00000024014', 'score:0.555|ascore:0.124|escore:0.231|dscore:0.152|tscore:0.313')\n"
     ]
    }
   ],
   "source": [
    "# The returned results are not invariant with respect to the given gene identifier version\n",
    "identifiers = ['9606.ENSP00000362116', 'PGC']\n",
    "for identifier in identifiers:\n",
    "    print(identifier)\n",
    "    [print(x) for x in get_associated_genes(identifier=identifier)]"
   ]
  },
  {
   "cell_type": "code",
   "execution_count": 6,
   "metadata": {},
   "outputs": [
    {
     "name": "stdout",
     "output_type": "stream",
     "text": [
      "('string:9606.ENSP00000325548', 'CNDP2', 'score:0.765|tscore:0.765')\n",
      "('string:9606.ENSP00000220509', 'VPS18', 'score:0.743|ascore:0.051|tscore:0.741')\n",
      "('string:9606.ENSP00000360124', 'PGM1', 'score:0.735|ascore:0.057|tscore:0.731')\n",
      "('string:9606.ENSP00000270776', 'PGD', 'score:0.734|ascore:0.052|tscore:0.731')\n",
      "('string:9606.ENSP00000325917', 'PCSK7', 'score:0.732|ascore:0.126|escore:0.528|tscore:0.404')\n",
      "('string:9606.ENSP00000268171', 'FURIN', 'score:0.725|ascore:0.126|escore:0.528|tscore:0.389')\n",
      "('string:9606.ENSP00000308024', 'PCSK1', 'score:0.721|ascore:0.126|escore:0.528|tscore:0.38')\n",
      "('string:9606.ENSP00000300954', 'PCSK4', 'score:0.721|ascore:0.126|escore:0.528|tscore:0.38')\n",
      "('string:9606.ENSP00000446280', 'PCSK5', 'score:0.721|ascore:0.126|escore:0.528|tscore:0.38')\n",
      "('string:9606.ENSP00000305056', 'PCSK6', 'score:0.721|ascore:0.126|escore:0.528|tscore:0.38')\n"
     ]
    },
    {
     "data": {
      "text/plain": [
       "[None, None, None, None, None, None, None, None, None, None]"
      ]
     },
     "execution_count": 6,
     "metadata": {},
     "output_type": "execute_result"
    }
   ],
   "source": [
    "# We thus have to convert our gene name into an identifier StringDB knows first\n",
    "[print(x) for x in get_associated_genes(identifier=get_string_db_identifier('ENSP00000362116'))]"
   ]
  },
  {
   "cell_type": "code",
   "execution_count": 104,
   "metadata": {},
   "outputs": [],
   "source": [
    "df, _ = get_big_dataset_content()\n",
    "save_associated_genes(identifiers=list(df.columns))"
   ]
  },
  {
   "cell_type": "markdown",
   "metadata": {},
   "source": [
    "Links\n",
    "- https://string-db.org/cgi/network.pl?taskId=ZK2D2EkO77Z7\n",
    "- https://string-db.org/cgi/network.pl?taskId=zR0L4yeMcEGU\n",
    "- http://www.ensembl.org/Homo_sapiens/Gene/Summary?db=core;g=ENSG00000096088;r=6:41736711-41754109\n",
    "- http://www.genecards.org/cgi-bin/carddisp.pl?gene=PGC#pathways_interactions\n",
    "- https://en.wikipedia.org/wiki/Phylogenetic_profiling"
   ]
  },
  {
   "cell_type": "code",
   "execution_count": 105,
   "metadata": {},
   "outputs": [
    {
     "data": {
      "text/html": [
       "<div>\n",
       "<style scoped>\n",
       "    .dataframe tbody tr th:only-of-type {\n",
       "        vertical-align: middle;\n",
       "    }\n",
       "\n",
       "    .dataframe tbody tr th {\n",
       "        vertical-align: top;\n",
       "    }\n",
       "\n",
       "    .dataframe thead th {\n",
       "        text-align: right;\n",
       "    }\n",
       "</style>\n",
       "<table border=\"1\" class=\"dataframe\">\n",
       "  <thead>\n",
       "    <tr style=\"text-align: right;\">\n",
       "      <th></th>\n",
       "      <th>ENSG00000042832</th>\n",
       "      <th>ENSG00000086548</th>\n",
       "      <th>ENSG00000122852</th>\n",
       "      <th>ENSG00000128422</th>\n",
       "      <th>ENSG00000129824</th>\n",
       "      <th>ENSG00000136352</th>\n",
       "      <th>ENSG00000157765</th>\n",
       "      <th>ENSG00000168878</th>\n",
       "      <th>ENSG00000185303</th>\n",
       "      <th>ENSG00000185479</th>\n",
       "      <th>ENSG00000186081</th>\n",
       "      <th>ENSG00000186832</th>\n",
       "      <th>ENSG00000186847</th>\n",
       "      <th>ENSG00000205420</th>\n",
       "    </tr>\n",
       "    <tr>\n",
       "      <th>sample_id</th>\n",
       "      <th></th>\n",
       "      <th></th>\n",
       "      <th></th>\n",
       "      <th></th>\n",
       "      <th></th>\n",
       "      <th></th>\n",
       "      <th></th>\n",
       "      <th></th>\n",
       "      <th></th>\n",
       "      <th></th>\n",
       "      <th></th>\n",
       "      <th></th>\n",
       "      <th></th>\n",
       "      <th></th>\n",
       "    </tr>\n",
       "  </thead>\n",
       "  <tbody>\n",
       "    <tr>\n",
       "      <th>0</th>\n",
       "      <td>-0.390651</td>\n",
       "      <td>-0.874771</td>\n",
       "      <td>-0.651031</td>\n",
       "      <td>-1.326890</td>\n",
       "      <td>1.105814</td>\n",
       "      <td>-0.671635</td>\n",
       "      <td>-1.117481</td>\n",
       "      <td>-0.721843</td>\n",
       "      <td>-0.475640</td>\n",
       "      <td>-0.571603</td>\n",
       "      <td>-0.078680</td>\n",
       "      <td>-0.932995</td>\n",
       "      <td>-0.821309</td>\n",
       "      <td>-0.701825</td>\n",
       "    </tr>\n",
       "    <tr>\n",
       "      <th>1</th>\n",
       "      <td>-0.546451</td>\n",
       "      <td>-1.045201</td>\n",
       "      <td>-0.651031</td>\n",
       "      <td>-0.846695</td>\n",
       "      <td>1.272846</td>\n",
       "      <td>-0.826816</td>\n",
       "      <td>-0.570226</td>\n",
       "      <td>-0.758942</td>\n",
       "      <td>-0.726717</td>\n",
       "      <td>-0.678175</td>\n",
       "      <td>-1.041723</td>\n",
       "      <td>-0.365608</td>\n",
       "      <td>-0.821309</td>\n",
       "      <td>-0.884311</td>\n",
       "    </tr>\n",
       "    <tr>\n",
       "      <th>2</th>\n",
       "      <td>-0.294704</td>\n",
       "      <td>-0.334087</td>\n",
       "      <td>-0.651031</td>\n",
       "      <td>-0.901615</td>\n",
       "      <td>1.147219</td>\n",
       "      <td>0.153893</td>\n",
       "      <td>-0.745637</td>\n",
       "      <td>-0.686860</td>\n",
       "      <td>-0.619298</td>\n",
       "      <td>-0.537545</td>\n",
       "      <td>-0.612176</td>\n",
       "      <td>-0.795993</td>\n",
       "      <td>-0.821309</td>\n",
       "      <td>-0.762039</td>\n",
       "    </tr>\n",
       "    <tr>\n",
       "      <th>3</th>\n",
       "      <td>-0.368586</td>\n",
       "      <td>-1.044671</td>\n",
       "      <td>-0.651031</td>\n",
       "      <td>-0.009298</td>\n",
       "      <td>-0.160563</td>\n",
       "      <td>-0.664179</td>\n",
       "      <td>-0.352765</td>\n",
       "      <td>-0.758210</td>\n",
       "      <td>-0.557765</td>\n",
       "      <td>-0.678175</td>\n",
       "      <td>0.419710</td>\n",
       "      <td>-0.104387</td>\n",
       "      <td>-0.648623</td>\n",
       "      <td>-0.032136</td>\n",
       "    </tr>\n",
       "    <tr>\n",
       "      <th>4</th>\n",
       "      <td>-0.387323</td>\n",
       "      <td>-1.161929</td>\n",
       "      <td>-0.651031</td>\n",
       "      <td>-1.273913</td>\n",
       "      <td>-0.192725</td>\n",
       "      <td>-0.826816</td>\n",
       "      <td>-1.023866</td>\n",
       "      <td>-0.765135</td>\n",
       "      <td>-0.156699</td>\n",
       "      <td>-0.678175</td>\n",
       "      <td>-0.226191</td>\n",
       "      <td>-0.932995</td>\n",
       "      <td>-0.821309</td>\n",
       "      <td>-0.770710</td>\n",
       "    </tr>\n",
       "  </tbody>\n",
       "</table>\n",
       "</div>"
      ],
      "text/plain": [
       "           ENSG00000042832  ENSG00000086548  ENSG00000122852  ENSG00000128422  \\\n",
       "sample_id                                                                       \n",
       "0                -0.390651        -0.874771        -0.651031        -1.326890   \n",
       "1                -0.546451        -1.045201        -0.651031        -0.846695   \n",
       "2                -0.294704        -0.334087        -0.651031        -0.901615   \n",
       "3                -0.368586        -1.044671        -0.651031        -0.009298   \n",
       "4                -0.387323        -1.161929        -0.651031        -1.273913   \n",
       "\n",
       "           ENSG00000129824  ENSG00000136352  ENSG00000157765  ENSG00000168878  \\\n",
       "sample_id                                                                       \n",
       "0                 1.105814        -0.671635        -1.117481        -0.721843   \n",
       "1                 1.272846        -0.826816        -0.570226        -0.758942   \n",
       "2                 1.147219         0.153893        -0.745637        -0.686860   \n",
       "3                -0.160563        -0.664179        -0.352765        -0.758210   \n",
       "4                -0.192725        -0.826816        -1.023866        -0.765135   \n",
       "\n",
       "           ENSG00000185303  ENSG00000185479  ENSG00000186081  ENSG00000186832  \\\n",
       "sample_id                                                                       \n",
       "0                -0.475640        -0.571603        -0.078680        -0.932995   \n",
       "1                -0.726717        -0.678175        -1.041723        -0.365608   \n",
       "2                -0.619298        -0.537545        -0.612176        -0.795993   \n",
       "3                -0.557765        -0.678175         0.419710        -0.104387   \n",
       "4                -0.156699        -0.678175        -0.226191        -0.932995   \n",
       "\n",
       "           ENSG00000186847  ENSG00000205420  \n",
       "sample_id                                    \n",
       "0                -0.821309        -0.701825  \n",
       "1                -0.821309        -0.884311  \n",
       "2                -0.821309        -0.762039  \n",
       "3                -0.648623        -0.032136  \n",
       "4                -0.821309        -0.770710  "
      ]
     },
     "execution_count": 105,
     "metadata": {},
     "output_type": "execute_result"
    }
   ],
   "source": [
    "df.head()"
   ]
  },
  {
   "cell_type": "code",
   "execution_count": 127,
   "metadata": {},
   "outputs": [
    {
     "data": {
      "image/png": "[encoded data removed]",
      "text/plain": [
       "<matplotlib.figure.Figure at 0x7fbe39fcd470>"
      ]
     },
     "metadata": {},
     "output_type": "display_data"
    },
    {
     "data": {
      "image/png": "[encoded data removed]",
      "text/plain": [
       "<matplotlib.figure.Figure at 0x7fbe3b26a550>"
      ]
     },
     "metadata": {},
     "output_type": "display_data"
    }
   ],
   "source": [
    "model = BiMax()\n",
    "df_binary = df > 0\n",
    "model.fit(df_binary.values)\n",
    "\n",
    "# get largest bicluster\n",
    "idx = np.argmax(list(model.rows_[i].sum() * model.columns_[i].sum() for i in range(len(model.rows_))))\n",
    "bc = np.outer(model.rows_[idx], model.columns_[idx])\n",
    "\n",
    "# plot data and overlay largest bicluster\n",
    "plt.pcolor(df_binary.values, cmap=plt.cm.Greys)\n",
    "plt.show()\n",
    "plt.pcolor(bc, cmap=plt.cm.Greys, alpha=0.7)\n",
    "plt.show()"
   ]
  },
  {
   "cell_type": "code",
   "execution_count": null,
   "metadata": {},
   "outputs": [],
   "source": []
  }
 ],
 "metadata": {
  "kernelspec": {
   "display_name": "venv3_gene",
   "language": "python",
   "name": "venv3_gene"
  },
  "language_info": {
   "codemirror_mode": {
    "name": "ipython",
    "version": 3
   },
   "file_extension": ".py",
   "mimetype": "text/x-python",
   "name": "python",
   "nbconvert_exporter": "python",
   "pygments_lexer": "ipython3",
   "version": "3.5.2"
  }
 },
 "nbformat": 4,
 "nbformat_minor": 1
}

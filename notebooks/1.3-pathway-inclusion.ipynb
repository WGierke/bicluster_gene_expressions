{
 "cells": [
  {
   "cell_type": "markdown",
   "metadata": {},
   "source": [
    "### Pathway Inclusion\n",
    "An idea to model the problem including pathway information is to use a bipartite graph in which one set corresponds to the samples and another set corresponds to the genes. A node between those two sets exists if the expression level of that gene in the sample is bigger than a threshold $t_e$. The pathway information could be added by connecting gene nodes with each other that contribute to the same pathway based on data from string-db.org. The node is added if the score of this connection is bigger than a threshold $t_p$."
   ]
  }
 ],
 "metadata": {
  "kernelspec": {
   "display_name": "venv3_gene",
   "language": "python",
   "name": "venv3_gene"
  },
  "language_info": {
   "codemirror_mode": {
    "name": "ipython",
    "version": 3
   },
   "file_extension": ".py",
   "mimetype": "text/x-python",
   "name": "python",
   "nbconvert_exporter": "python",
   "pygments_lexer": "ipython3",
   "version": "3.5.2"
  }
 },
 "nbformat": 4,
 "nbformat_minor": 2
}
